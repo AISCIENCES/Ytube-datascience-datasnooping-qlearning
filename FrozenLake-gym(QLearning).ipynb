{
 "cells": [
  {
   "cell_type": "code",
   "execution_count": 1,
   "metadata": {},
   "outputs": [],
   "source": [
    "import gym # pip install gym\n",
    "import numpy as np\n",
    "import time\n",
    "from IPython.display import clear_output"
   ]
  },
  {
   "cell_type": "code",
   "execution_count": 2,
   "metadata": {},
   "outputs": [],
   "source": [
    "env = gym.make('FrozenLake-v0')"
   ]
  },
  {
   "cell_type": "code",
   "execution_count": 3,
   "metadata": {},
   "outputs": [
    {
     "name": "stdout",
     "output_type": "stream",
     "text": [
      "\n",
      "\u001b[41mS\u001b[0mFFF\n",
      "FHFH\n",
      "FFFH\n",
      "HFFG\n"
     ]
    }
   ],
   "source": [
    "env.render()"
   ]
  },
  {
   "cell_type": "code",
   "execution_count": 4,
   "metadata": {},
   "outputs": [],
   "source": [
    "numActions = env.action_space.n\n",
    "numStates = env.observation_space.n"
   ]
  },
  {
   "cell_type": "code",
   "execution_count": 5,
   "metadata": {},
   "outputs": [
    {
     "name": "stdout",
     "output_type": "stream",
     "text": [
      "4 16\n"
     ]
    }
   ],
   "source": [
    "print(numActions,numStates)"
   ]
  },
  {
   "cell_type": "code",
   "execution_count": 6,
   "metadata": {},
   "outputs": [],
   "source": [
    "Q = np.zeros((numStates,numActions))"
   ]
  },
  {
   "cell_type": "code",
   "execution_count": 7,
   "metadata": {},
   "outputs": [
    {
     "name": "stdout",
     "output_type": "stream",
     "text": [
      "[[0. 0. 0. 0.]\n",
      " [0. 0. 0. 0.]\n",
      " [0. 0. 0. 0.]\n",
      " [0. 0. 0. 0.]\n",
      " [0. 0. 0. 0.]\n",
      " [0. 0. 0. 0.]\n",
      " [0. 0. 0. 0.]\n",
      " [0. 0. 0. 0.]\n",
      " [0. 0. 0. 0.]\n",
      " [0. 0. 0. 0.]\n",
      " [0. 0. 0. 0.]\n",
      " [0. 0. 0. 0.]\n",
      " [0. 0. 0. 0.]\n",
      " [0. 0. 0. 0.]\n",
      " [0. 0. 0. 0.]\n",
      " [0. 0. 0. 0.]]\n"
     ]
    }
   ],
   "source": [
    "print(Q)"
   ]
  },
  {
   "cell_type": "code",
   "execution_count": 8,
   "metadata": {},
   "outputs": [],
   "source": [
    "nE = 1000\n",
    "mpE = 100\n",
    "alpha = 0.25\n",
    "gamma = 0.99\n",
    "epsilon = 1\n",
    "edr = 0.00001"
   ]
  },
  {
   "cell_type": "code",
   "execution_count": 9,
   "metadata": {},
   "outputs": [],
   "source": [
    "for e in range(nE):\n",
    "    state = env.reset()\n",
    "    done = False\n",
    "    for step in range(mpE):\n",
    "        if np.random.rand() > epsilon:\n",
    "            action = np.argmax(Q[state,:])\n",
    "        else:\n",
    "            action = env.action_space.sample()\n",
    "        ns,reward,done,info = env.step(action)\n",
    "        Q[state,action] = (1-alpha)*Q[state,action]+alpha*(\n",
    "        reward+gamma*np.max(Q[ns,:]))\n",
    "        state = ns\n",
    "        if done == True:\n",
    "            break\n",
    "    epsilon = epsilon*np.exp(-edr*e)\n",
    "    alpha = alpha*np.exp(-edr*e)\n",
    "    \n",
    "        "
   ]
  },
  {
   "cell_type": "code",
   "execution_count": 10,
   "metadata": {},
   "outputs": [
    {
     "data": {
      "text/plain": [
       "array([[0.37071906, 0.29781034, 0.30783272, 0.30372954],\n",
       "       [0.11989631, 0.0811449 , 0.07318645, 0.27117805],\n",
       "       [0.21372349, 0.0834144 , 0.09053864, 0.09043132],\n",
       "       [0.01954035, 0.02205058, 0.01688234, 0.08439756],\n",
       "       [0.38334002, 0.2401247 , 0.23382544, 0.20271248],\n",
       "       [0.        , 0.        , 0.        , 0.        ],\n",
       "       [0.19297669, 0.03972127, 0.08812737, 0.04763932],\n",
       "       [0.        , 0.        , 0.        , 0.        ],\n",
       "       [0.21747757, 0.23471289, 0.23300025, 0.41172024],\n",
       "       [0.19267835, 0.45568108, 0.22146905, 0.17946966],\n",
       "       [0.44031075, 0.15965094, 0.15128309, 0.08161276],\n",
       "       [0.        , 0.        , 0.        , 0.        ],\n",
       "       [0.        , 0.        , 0.        , 0.        ],\n",
       "       [0.18891998, 0.24707926, 0.54678339, 0.29630544],\n",
       "       [0.33371486, 0.48576556, 0.59917244, 0.6534683 ],\n",
       "       [0.        , 0.        , 0.        , 0.        ]])"
      ]
     },
     "execution_count": 10,
     "metadata": {},
     "output_type": "execute_result"
    }
   ],
   "source": [
    "Q"
   ]
  },
  {
   "cell_type": "code",
   "execution_count": 11,
   "metadata": {},
   "outputs": [
    {
     "name": "stdout",
     "output_type": "stream",
     "text": [
      "  (Up)\n",
      "SFFF\n",
      "FHFH\n",
      "F\u001b[41mF\u001b[0mFH\n",
      "HFFG\n",
      "Hole\n"
     ]
    }
   ],
   "source": [
    "for e in range(5):\n",
    "    state = env.reset()\n",
    "    done = False\n",
    "    print(\"Episode::\",e)\n",
    "    time.sleep(0.1)\n",
    "    for step in range(mpE):\n",
    "        clear_output(wait=True)\n",
    "        env.render()\n",
    "        time.sleep(0.3)\n",
    "        action = np.argmax(Q[state,:])\n",
    "        ns,reward,done,info = env.step(action)\n",
    "        if done:\n",
    "            clear_output(wait=True)\n",
    "            env.render()\n",
    "            if reward == 1:\n",
    "                print(\"Goal\")\n",
    "                time.sleep(3)\n",
    "            else:\n",
    "                print(\"Hole\")\n",
    "                time.sleep(3)\n",
    "                clear_output(wait=True)\n",
    "            break\n",
    "        state = ns\n",
    "env.close()\n",
    "            \n",
    "            "
   ]
  },
  {
   "cell_type": "code",
   "execution_count": null,
   "metadata": {},
   "outputs": [],
   "source": []
  }
 ],
 "metadata": {
  "kernelspec": {
   "display_name": "Python 3",
   "language": "python",
   "name": "python3"
  },
  "language_info": {
   "codemirror_mode": {
    "name": "ipython",
    "version": 3
   },
   "file_extension": ".py",
   "mimetype": "text/x-python",
   "name": "python",
   "nbconvert_exporter": "python",
   "pygments_lexer": "ipython3",
   "version": "3.8.3"
  }
 },
 "nbformat": 4,
 "nbformat_minor": 4
}
